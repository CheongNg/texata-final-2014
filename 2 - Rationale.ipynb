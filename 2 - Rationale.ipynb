{
 "metadata": {
  "name": "",
  "signature": "sha256:cef32fa96e047fd20f0ce17bcc8c980317061372312109504f4bc8119f1405ef"
 },
 "nbformat": 3,
 "nbformat_minor": 0,
 "worksheets": [
  {
   "cells": [
    {
     "cell_type": "heading",
     "level": 3,
     "metadata": {},
     "source": [
      "The specifics of a support forum"
     ]
    },
    {
     "cell_type": "markdown",
     "metadata": {},
     "source": [
      "I am a user of [StackOverflow](http://stackoverflow.com), which seems to look and feel somewhat analogous to the Cisco forum. Indeed, despite the use of the word \"discussion\" to characterize posts, CSC is essentially a Q&A site. Consequently, I can make use of this experience to postulate some assumptions before delving into the data, sidestepping a lot of the descriptive analysis, which is otherwise necessary before doing anything with the data."
     ]
    },
    {
     "cell_type": "heading",
     "level": 4,
     "metadata": {},
     "source": [
      "Audience structure"
     ]
    },
    {
     "cell_type": "markdown",
     "metadata": {},
     "source": [
      "A community support forum is a website with a particular audience structure. As I see it, most users visit the site rarely, perhaps only once, to resolve some issue as fast as possible and leave. Depending on the circumstances, they would either use the \"search\" feature and find their answer (let us call those users ***\"searchers\"***), or ask a question (those are ***\"askers\"***), perhaps getting involved in the following discussion. The third important group of users is formed by those who are actively answering the questions (the ***\"answerers\"***). Depending on the involvement, an answerer may be a short-term forum participant (for example, as a user of StackOverflow, I have a habit of answering a couple of random questions immediately after I have my own question answered, as a kind of a \"social gratitude\"). They may also be a long-term participant, actively answering questions, perhaps because they feel part of the community, are sucked in by the gamification features, or are simply paid employees. Confusingly, the behavioural pattern may change over time (e.g. I've had some short periods of active participation on SO).\n",
      "\n",
      "In addition, this being a proprietary support forum, we may further try to distinguish the two reasons a question is asked. Some questions are asked because the asker does something wrong or lacks the knowledge, we shall call them **\"assistance requests\"**. Other may result from faults in Cisco's hardware or services, and require attention from the relevant teams. We shall call them **\"complaints\"**. Finally, some posts may be true \"discussions\", that do not fall into the category of Q&A posts. Ignoring other details, the resulting audience structure is therefore:\n",
      "\n",
      " * Searchers\n",
      " * Answerers\n",
      "   * self-motivated\n",
      "   * employed\n",
      " * Askers\n",
      "   * assistance\n",
      "   * complaints / bug reports\n",
      "   * other, e.g. \"discussion\"\n",
      "\n",
      "In the following I will take this audience structure as given, although it is of course important to verify that it really holds. We do not have the capability to do the verification in full (e.g. the \"searchers\" are not present in the data in any way), yet, at least the following two tasks make sense both from a scientific and a commercial standpoint:\n",
      " \n",
      " * **Verify the hypothesis that there are \"askers\" and \"answerers\" visible in the data and attempt to categorize users.**\n",
      " * **Verify the hypothesis that there are \"assistance requests\" and \"complaints\" visible in the data and attempt to categorize questions (at least detecting the \"complaints\").**\n",
      "\n",
      "Those tasks are essentially a reinterpretation of second and third topics given in the original problem statement. I do not consider them first priority, though, as they fall somewhat into the \"descriptive\" category. The benefit of descriptive analysis is often not as clear as that of \"prescriptive\" or \"operational\". Also there is a risk that the necessary signal in the data is not as strong and the analysis would not complete or provide exciting results within the time limit.\n",
      "\n",
      "In addition, once I have mentioned StackOverflow, two interesting questions crop up: \n",
      " \n",
      " * How do the structures of the two sites relate to each other?\n",
      " * **Are there common users or common questions between SO and CSC?**\n",
      "\n",
      "Those questions seem to bear more sociological than commercial value. To be more precise, deciding on their implications would require a separate discussion and a couple of additional analytic iterations. However, if time permits, doing some simple counts of visualizations would be a reasonable thing. "
     ]
    },
    {
     "cell_type": "heading",
     "level": 4,
     "metadata": {},
     "source": [
      "Customer engagement strategies"
     ]
    },
    {
     "cell_type": "markdown",
     "metadata": {},
     "source": [
      "I take it as given that Cisco is interested in increasing customer engagement on the forums. Site's gamification features (and the third-party ad on the side) indirectly indicate that interest. Indeed, for the forum to be useful, there must exist a community of active \"answerers\", that can provide timely help. Obviously, the less paid employees and the more self-motivated users there are among the \"answerers\" (assuming the answers are still high-quality), the greater the benefits to Cisco.\n",
      "\n",
      "We therefore need to cater separately to the needs of \"searchers\", \"askers\" and \"answerers\". The requirements list is somewhat obvious:\n",
      " \n",
      " 1. The \"searchers\" must be provided with the ability to get relevant search results fast.\n",
      " 2. The \"askers\" must be provided with the ability to get their problems answered by the knowledgeable answerers.\n",
      " 3. The \"answerers\" must be provided with the ability to find or stumble upon questions they can or are intesterested to answer (perhaps integrating this with the social or gamification features, increasing engagement)\n",
      "\n",
      "In addition, Cisco may be interested in motivating users to transition from \"searchers\" or \"askers\" into \"answerers\", if possible or, perhaps, even recruiting new \"askers\" from elsewhere.\n",
      "\n",
      "Cisco forums already try to satisfy the features above to various extents. There's the search feature, the (manual) categorization and tagging, the question recommendation engine for the answerers, and the gamification elements. The problem we are faced is to provide something *new* on top of that based on the available data."
     ]
    },
    {
     "cell_type": "markdown",
     "metadata": {},
     "source": [
      "Having given it some thought, here are the beneficial features that I feel might be *added* to the current system at a reasonable expense, immediately improving user's experience: \n",
      "\n",
      " * **Automated duplicate detection and the \"related discussions\" toolbar**. As I see it, a newly created discusion is immediately posted. It would be convenient for the asker, if the system would try to identify similar or duplicate questions and warn the user (SO does it, for example, and I always felt this is a very useful feature, that has helped me find my answer before submitting an unnecessary question). Displaying \"related questions\" near a question would be a great feature for the \"searchers\" which could be implemented using the same codebase.\n",
      " * **Automated tagging suggestions**. Although I do not personally have too much respect for tagging, sometimes tags are useful. In particular, they provide useful input for a number of downstream applications, such as the abovementioned task of duplicate or related post detection, or post categorization. Currently the forums have the tagging functionality enabled, however users do not use it too much. One way to motivate them would be to have the system *suggest* tags to the asker while he edits the question. Another possibility is to postprocess the data to add a list of \"recommended tags\", if possible.\n",
      " \n",
      "Those two features seem to match the first suggested topic, be perfectly operational and have clear value. Most importantly, I have a personal preference towards those topics (I've implemented a plagiarism detection system once and contributed to a text labeling project)."
     ]
    },
    {
     "cell_type": "markdown",
     "metadata": {},
     "source": [
      "By this point, I've listed five concrete tasks along with the priorities, which is already way more than is doable within 4 hours."
     ]
    }
   ],
   "metadata": {}
  }
 ]
}